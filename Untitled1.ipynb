{
 "cells": [
  {
   "cell_type": "code",
   "execution_count": 1,
   "metadata": {},
   "outputs": [
    {
     "name": "stderr",
     "output_type": "stream",
     "text": [
      "Using TensorFlow backend.\n"
     ]
    }
   ],
   "source": [
    "from keras.layers import Conv2D, UpSampling2D, InputLayer, Conv2DTranspose\n",
    "from keras.layers import Activation, Dense, Dropout, Flatten\n",
    "from keras.layers.normalization import BatchNormalization\n",
    "from keras.models import Sequential\n",
    "from keras.preprocessing.image import ImageDataGenerator, array_to_img, img_to_array, load_img\n",
    "from skimage.color import rgb2lab, lab2rgb, rgb2gray, xyz2lab\n",
    "from skimage.io import imsave\n",
    "import numpy as np\n",
    "import os\n",
    "import random\n",
    "import tensorflow as tf"
   ]
  },
  {
   "cell_type": "code",
   "execution_count": 13,
   "metadata": {},
   "outputs": [],
   "source": [
    "image = img_to_array(load_img('d:\\projects\\woman1.jpg'))\n",
    "image = np.array(image,dtype=float)"
   ]
  },
  {
   "cell_type": "code",
   "execution_count": 15,
   "metadata": {},
   "outputs": [],
   "source": [
    "X = rgb2lab(1.0/255*image)[:,:,0]\n",
    "Y = rgb2lab(1.0/255*image)[:,:,1:]\n",
    "Y /= 128\n",
    "X = X.reshape(1, 400, 400, 1)\n",
    "Y = Y.reshape(1, 400, 400, 2)"
   ]
  },
  {
   "cell_type": "code",
   "execution_count": 16,
   "metadata": {},
   "outputs": [
    {
     "name": "stdout",
     "output_type": "stream",
     "text": [
      "WARNING:tensorflow:From C:\\Anaconda_3\\lib\\site-packages\\tensorflow\\python\\framework\\op_def_library.py:263: colocate_with (from tensorflow.python.framework.ops) is deprecated and will be removed in a future version.\n",
      "Instructions for updating:\n",
      "Colocations handled automatically by placer.\n"
     ]
    }
   ],
   "source": [
    "model = Sequential()\n",
    "model.add(InputLayer(input_shape=(None, None, 1)))\n",
    "model.add(Conv2D(8, (3, 3), activation='relu', padding='same', strides=2))\n",
    "model.add(Conv2D(8, (3, 3), activation='relu', padding='same'))\n",
    "model.add(Conv2D(16, (3, 3), activation='relu', padding='same'))\n",
    "model.add(Conv2D(16, (3, 3), activation='relu', padding='same', strides=2))\n",
    "model.add(Conv2D(32, (3, 3), activation='relu', padding='same'))\n",
    "model.add(Conv2D(32, (3, 3), activation='relu', padding='same', strides=2))\n",
    "model.add(UpSampling2D((2, 2)))\n",
    "model.add(Conv2D(32, (3, 3), activation='relu', padding='same'))\n",
    "model.add(UpSampling2D((2, 2)))\n",
    "model.add(Conv2D(16, (3, 3), activation='relu', padding='same'))\n",
    "model.add(UpSampling2D((2, 2)))\n",
    "model.add(Conv2D(2, (3, 3), activation='tanh', padding='same'))"
   ]
  },
  {
   "cell_type": "code",
   "execution_count": 17,
   "metadata": {},
   "outputs": [],
   "source": [
    "model.compile(optimizer='rmsprop',loss='mse')\n"
   ]
  },
  {
   "cell_type": "code",
   "execution_count": 20,
   "metadata": {},
   "outputs": [
    {
     "name": "stdout",
     "output_type": "stream",
     "text": [
      "Epoch 1/50\n",
      "1/1 [==============================] - 0s 402ms/step - loss: 0.0055\n",
      "Epoch 2/50\n",
      "1/1 [==============================] - 0s 449ms/step - loss: 0.0053\n",
      "Epoch 3/50\n",
      "1/1 [==============================] - 0s 428ms/step - loss: 0.0051\n",
      "Epoch 4/50\n",
      "1/1 [==============================] - 0s 445ms/step - loss: 0.0050\n",
      "Epoch 5/50\n",
      "1/1 [==============================] - 0s 431ms/step - loss: 0.0050\n",
      "Epoch 6/50\n",
      "1/1 [==============================] - 0s 443ms/step - loss: 0.0053\n",
      "Epoch 7/50\n",
      "1/1 [==============================] - 0s 440ms/step - loss: 0.0045\n",
      "Epoch 8/50\n",
      "1/1 [==============================] - 0s 442ms/step - loss: 0.0043\n",
      "Epoch 9/50\n",
      "1/1 [==============================] - 0s 445ms/step - loss: 0.0042\n",
      "Epoch 10/50\n",
      "1/1 [==============================] - 0s 436ms/step - loss: 0.0046\n",
      "Epoch 11/50\n",
      "1/1 [==============================] - 0s 453ms/step - loss: 0.0064\n",
      "Epoch 12/50\n",
      "1/1 [==============================] - 0s 437ms/step - loss: 0.0049\n",
      "Epoch 13/50\n",
      "1/1 [==============================] - 0s 429ms/step - loss: 0.0041\n",
      "Epoch 14/50\n",
      "1/1 [==============================] - 0s 444ms/step - loss: 0.0039\n",
      "Epoch 15/50\n",
      "1/1 [==============================] - 0s 412ms/step - loss: 0.0038\n",
      "Epoch 16/50\n",
      "1/1 [==============================] - 0s 409ms/step - loss: 0.0037\n",
      "Epoch 17/50\n",
      "1/1 [==============================] - 0s 433ms/step - loss: 0.0040\n",
      "Epoch 18/50\n",
      "1/1 [==============================] - 0s 406ms/step - loss: 0.0053\n",
      "Epoch 19/50\n",
      "1/1 [==============================] - 0s 429ms/step - loss: 0.0050\n",
      "Epoch 20/50\n",
      "1/1 [==============================] - 0s 424ms/step - loss: 0.0038\n",
      "Epoch 21/50\n",
      "1/1 [==============================] - 0s 438ms/step - loss: 0.0038\n",
      "Epoch 22/50\n",
      "1/1 [==============================] - 0s 434ms/step - loss: 0.0058\n",
      "Epoch 23/50\n",
      "1/1 [==============================] - 0s 392ms/step - loss: 0.0039\n",
      "Epoch 24/50\n",
      "1/1 [==============================] - 0s 410ms/step - loss: 0.0035\n",
      "Epoch 25/50\n",
      "1/1 [==============================] - 0s 420ms/step - loss: 0.0035\n",
      "Epoch 26/50\n",
      "1/1 [==============================] - 0s 413ms/step - loss: 0.0040\n",
      "Epoch 27/50\n",
      "1/1 [==============================] - 0s 420ms/step - loss: 0.0053\n",
      "Epoch 28/50\n",
      "1/1 [==============================] - 0s 426ms/step - loss: 0.0037\n",
      "Epoch 29/50\n",
      "1/1 [==============================] - 0s 432ms/step - loss: 0.0037\n",
      "Epoch 30/50\n",
      "1/1 [==============================] - 0s 422ms/step - loss: 0.0045\n",
      "Epoch 31/50\n",
      "1/1 [==============================] - 0s 444ms/step - loss: 0.0031\n",
      "Epoch 32/50\n",
      "1/1 [==============================] - 0s 426ms/step - loss: 0.0029\n",
      "Epoch 33/50\n",
      "1/1 [==============================] - 0s 448ms/step - loss: 0.0030\n",
      "Epoch 34/50\n",
      "1/1 [==============================] - 0s 402ms/step - loss: 0.0031\n",
      "Epoch 35/50\n",
      "1/1 [==============================] - 0s 418ms/step - loss: 0.0043\n",
      "Epoch 36/50\n",
      "1/1 [==============================] - 0s 422ms/step - loss: 0.0037\n",
      "Epoch 37/50\n",
      "1/1 [==============================] - 0s 354ms/step - loss: 0.0042\n",
      "Epoch 38/50\n",
      "1/1 [==============================] - 0s 442ms/step - loss: 0.0040\n",
      "Epoch 39/50\n",
      "1/1 [==============================] - 0s 442ms/step - loss: 0.0046\n",
      "Epoch 40/50\n",
      "1/1 [==============================] - 0s 426ms/step - loss: 0.0032\n",
      "Epoch 41/50\n",
      "1/1 [==============================] - 0s 417ms/step - loss: 0.0029\n",
      "Epoch 42/50\n",
      "1/1 [==============================] - 0s 366ms/step - loss: 0.0028\n",
      "Epoch 43/50\n",
      "1/1 [==============================] - 0s 439ms/step - loss: 0.0035\n",
      "Epoch 44/50\n",
      "1/1 [==============================] - 0s 412ms/step - loss: 0.0044\n",
      "Epoch 45/50\n",
      "1/1 [==============================] - 0s 390ms/step - loss: 0.0045\n",
      "Epoch 46/50\n",
      "1/1 [==============================] - 0s 442ms/step - loss: 0.0033\n",
      "Epoch 47/50\n",
      "1/1 [==============================] - 0s 418ms/step - loss: 0.0039\n",
      "Epoch 48/50\n",
      "1/1 [==============================] - 0s 427ms/step - loss: 0.0029\n",
      "Epoch 49/50\n",
      "1/1 [==============================] - 0s 445ms/step - loss: 0.0028\n",
      "Epoch 50/50\n",
      "1/1 [==============================] - 0s 422ms/step - loss: 0.0026\n"
     ]
    },
    {
     "data": {
      "text/plain": [
       "<keras.callbacks.History at 0x29e21852e48>"
      ]
     },
     "execution_count": 20,
     "metadata": {},
     "output_type": "execute_result"
    }
   ],
   "source": [
    "model.fit(x=X, \n",
    "    y=Y,\n",
    "    batch_size=1,\n",
    "    epochs=50)"
   ]
  },
  {
   "cell_type": "code",
   "execution_count": 21,
   "metadata": {},
   "outputs": [
    {
     "name": "stdout",
     "output_type": "stream",
     "text": [
      "1/1 [==============================] - 0s 78ms/step\n",
      "0.002589270006865263\n"
     ]
    }
   ],
   "source": [
    "print(model.evaluate(X, Y, batch_size=1))\n",
    "output = model.predict(X)\n",
    "output *= 128\n",
    "# Output colorizations\n",
    "cur = np.zeros((400, 400, 3))\n",
    "cur[:,:,0] = X[0][:,:,0]\n",
    "cur[:,:,1:] = output[0]\n",
    "imsave(\"img_result.png\", lab2rgb(cur))\n",
    "imsave(\"img_gray_version.png\", rgb2gray(lab2rgb(cur)))"
   ]
  },
  {
   "cell_type": "code",
   "execution_count": null,
   "metadata": {},
   "outputs": [],
   "source": []
  }
 ],
 "metadata": {
  "kernelspec": {
   "display_name": "Python 3",
   "language": "python",
   "name": "python3"
  },
  "language_info": {
   "codemirror_mode": {
    "name": "ipython",
    "version": 3
   },
   "file_extension": ".py",
   "mimetype": "text/x-python",
   "name": "python",
   "nbconvert_exporter": "python",
   "pygments_lexer": "ipython3",
   "version": "3.7.3"
  }
 },
 "nbformat": 4,
 "nbformat_minor": 2
}
